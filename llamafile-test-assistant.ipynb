{
 "cells": [
  {
   "cell_type": "code",
   "execution_count": null,
   "metadata": {},
   "outputs": [],
   "source": [
    "# https://github.com/Mozilla-Ocho/llamafile/blob/main/llama.cpp/server/README.md#api-endpoints"
   ]
  },
  {
   "cell_type": "code",
   "execution_count": 2,
   "metadata": {},
   "outputs": [],
   "source": [
    "import requests\n",
    "import os\n",
    "from pathlib import Path"
   ]
  },
  {
   "cell_type": "code",
   "execution_count": 16,
   "metadata": {},
   "outputs": [
    {
     "name": "stdout",
     "output_type": "stream",
     "text": [
      "'llava-v1.5-7b-q4.llamafile' already exists in the current directory.\n"
     ]
    }
   ],
   "source": [
    "# File name and URL\n",
    "file_name = \"llava-v1.5-7b-q4.llamafile\"\n",
    "url = (\n",
    "    \"https://huggingface.co/Mozilla/llava-v1.5-7b-llamafile/resolve/main/llava-v1.5-7b-q4.llamafile?download=true\"\n",
    ")\n",
    "\n",
    "# Check if file is present in the current directory\n",
    "if not os.path.exists(file_name):\n",
    "    print(f\"'{file_name}' not found. Downloading...\")\n",
    "    # Download the file\n",
    "    response = requests.get(url)\n",
    "    response.raise_for_status()  # Raise an exception for HTTP errors\n",
    "    with open(file_name, \"wb\") as f:\n",
    "        f.write(response.content)\n",
    "    print(f\"'{file_name}' has been downloaded.\")\n",
    "else:\n",
    "    print(f\"'{file_name}' already exists in the current directory.\")\n",
    "\n",
    "# Add the LLM downloaded from HF\n",
    "model_path = file_name"
   ]
  },
  {
   "cell_type": "code",
   "execution_count": null,
   "metadata": {},
   "outputs": [],
   "source": [
    "# ./llava-v1.5-7b-q4.llamafile --server --nobrowser\n",
    "# chmod +x llava-v1.5-7b-q4.llamafile\n",
    "# "
   ]
  },
  {
   "cell_type": "code",
   "execution_count": 6,
   "metadata": {},
   "outputs": [
    {
     "data": {
      "text/plain": [
       "[Document(page_content='BACKGROUND: Apoptosis can fuel oncogenesis by the education of surrounding stromal cells. However, the function of cancer-associated fibroblasts (CAFs), which interacted with apoptotic cancer cells, in oral squamous cell carcinoma (OSCC) progression is still unknown.\\nOBJECTIVES: This study aimed to explore the prognostic value of apoptosis and the biological effects of CAFs, interacted with apoptotic cancer cells, on OSCC.\\nMETHODS: A total of 166 samples from OSCC patients were stained via TUNEL reaction to evaluate the correlation between apoptosis and clinical characteristics. Cell viability and proliferation were assessed through flow cytometry and CCK-8 assays, respectively. Levels of mRNA and protein were examined through qRT-PCR, western blot and immunofluorescence.\\nRESULTS: Higher percentage of apoptotic cancer cells in OSCC positively correlated with more Ki67 cells and predicted poor clinical outcomes. Conditioned medium from CAFs exposed to apoptotic cancer cells significantly facilitated cell proliferation. Co-culture CAFs with apoptotic cancer cells dampened the phosphorylation of STING/IRF3 signaling, as well as the production of type I interferon, which was required for the inhibition of OSCC cell proliferation.\\nCONCLUSION: These results demonstrate the interplay between apoptotic cancer cells and CAFs promotes OSCC proliferation via STING signaling, identifying a potential therapy targeted CAFs surrounded with apoptotic cancer cells for OSCC.', metadata={'uid': '38888044', 'Title': 'Interaction between CAFs and apoptotic cancer cells promotes OSCC proliferation via STING signaling.', 'Published': '2024-06-18', 'Copyright Information': '© 2024 Wiley Periodicals LLC.'}),\n",
       " Document(page_content=\"['Objective', 'Methods', 'Results', 'Conclusions']\\nTo identify nivolumab resistance-related genes in patients with head and neck squamous cell carcinoma (HNSCC) using single-cell and bulk RNA-sequencing data.  The single-cell and bulk RNA-sequencing data downloaded from the Gene Expression Omnibus database were analyzed to screen out differentially expressed genes (DEGs) between the nivolumab resistant and nivolumab sensitive patients using R software. The Least Absolute Shrinkage Selection Operator (LASSO) regression and Recursive Feature Elimination (RFE) algorithm were performed to identify key genes associated with nivolumab resistance. Functional enrichment of DEGs was analyzed with Gene Ontology and Kyoto Encyclopedia of Genes and Genomes analyses. The relationships of key genes with immune cell infiltration, differentation trajectory, dynamic gene expression profiles, and ligand-receptor interaction were explored.  We found 83 DEGs. They were mainly enriched in T-cell differentiation, PD-1 and PD-L1 checkpoint pathways, and T-cell receptor pathways. In six key genes identified using machine learning algorithms, only PPP1R14A gene was differentially expressed between the nivolumab resistant and nivolumab sensitive groups both before and after immunotherapy (P < 0.05). The high PPP1R14A gene expression group had lower immune score (P < 0.01), higher expression of immunosuppressive factors (such as PDCD1, CTLA4, and PDCD1LG2) (r > 0, P < 0.05), lower differentiation of infiltrated immune cells (P < 0.05), and a higher degree of interaction between HLA and CD4 (P < 0.05).  PPP1R14A gene is closely associated with resistance to nivolumab in HNSCC patients. Therefore, PPP1R14A may be a target to ameliorate nivolumab resistance of HNSCC patients.\", metadata={'uid': '38887993', 'Title': 'PPP1R14A is Associated with Immunotherapy Resistance in Head and Neck Squamous Cell Carcinoma Identified by Single-Cell and Bulk RNA-Sequencing.', 'Published': '2024-06-18', 'Copyright Information': ''}),\n",
       " Document(page_content='Photodynamic therapy (PDT) utilizes reactive oxygen species (ROS) for eradication of cancer cells. Its effectiveness is governed by the oxygen content, which is scarce in the hypoxic tumor microenvironment. We report herein two zinc(II) phthalocyanines substituted with two or four nitric oxide (NO)-releasing moieties, namely ZnPc-2NO and ZnPc-4NO, which can suppress the mitochondrial respiration, thereby sparing more intracellular oxygen for PDT. Using HT29 human colorectal adenocarcinoma cells and A549 human lung carcinoma cells, we have demonstrated that both conjugates release NO upon interaction with the intracellular glutathione, which can reduce the cellular oxygen consumption rate and adenosine triphosphate generation and alter the mitochondrial membrane potential. They can also relieve the hypoxic status of cancer cells and decrease the expression of hypoxia-inducible factor protein HIF-1α. Upon light irradiation, both conjugates can generate ROS and induce cytotoxicity even under a hypoxic condition, overcoming the oxygen-dependent nature of PDT. Interestingly, the photodynamic action of ZnPc-2NO elicits the release of damage-associated molecular patterns, inducing the maturation of dendritic cells and triggering an antitumor immune response. The immunogenic cell death caused by this oxygen-economized PDT has been demonstrated through a series of in vitro and in vivo experiments.', metadata={'uid': '38887983', 'Title': 'Inducing Immunogenic Cancer Cell Death through Oxygen-Economized Photodynamic Therapy with Nitric Oxide-Releasing Photosensitizers.', 'Published': '2024-06-18', 'Copyright Information': '© 2024 Wiley‐VCH GmbH.'})]"
      ]
     },
     "execution_count": 6,
     "metadata": {},
     "output_type": "execute_result"
    }
   ],
   "source": [
    "from langchain_community.retrievers import PubMedRetriever\n",
    "retriever = PubMedRetriever(MAX_QUERY_LENGTH=5)\n",
    "retriever.invoke('carcinoma')"
   ]
  },
  {
   "cell_type": "code",
   "execution_count": 4,
   "metadata": {},
   "outputs": [],
   "source": [
    "chain_rag = chain.with_types(input_type=Question)\n"
   ]
  },
  {
   "cell_type": "code",
   "execution_count": 5,
   "metadata": {},
   "outputs": [
    {
     "name": "stdout",
     "output_type": "stream",
     "text": [
      "              Cancer is a disease characterized by the uncontrolled growth and spread of abnormal cells. Apoptosis, or programmed cell death, is a natural process that can occur in normal cells to maintain tissue homeostasis, but it can also play a role in oncogenesis by education of surrounding stromal cells. Cancer-associated fibroblasts (CAFs) interact with apoptotic cancer cells and can promote the progression of oral squamous cell carcinoma (OSCC). This study aimed to explore the prognostic value of apoptosis and the biological effects of CAFs on OSCC. The researchers analyzed 166 samples from OSCC patients using TUNEL reaction, flow cytometry, qRT-PCR, western blot, and immunofluorescence to evaluate the correlation between apoptosis and clinical characteristics, cell viability and proliferation, mRNA and protein levels. They found that higher percentage of apoptotic cancer cells in OSCC positively correlated with more Ki67 cells and predicted poor clinical outcomes. Conditioned medium from CAFs exposed to apoptotic cancer cells significantly facilitated cell proliferation. Co-culture CAFs with</s>\n"
     ]
    }
   ],
   "source": [
    "from langserve.client import RemoteRunnable\n",
    "\n",
    "runnable = RemoteRunnable(\"http://localhost:8000/llamafile\")"
   ]
  },
  {
   "cell_type": "code",
   "execution_count": null,
   "metadata": {},
   "outputs": [],
   "source": [
    "from langchain_community.llms.llamafile import Llamafile\n",
    "from langchain_core.prompts import ChatPromptTemplate\n",
    "from langchain.schema.output_parser import StrOutputParser\n",
    "from langchain.schema.runnable import RunnablePassthrough\n",
    "from langchain_community.retrievers import PubMedRetriever\n",
    "from langchain_core.pydantic_v1 import BaseModel\n",
    "\n",
    "llm = Llamafile()\n",
    "retriever = PubMedRetriever(MAX_QUERY_LENGTH=10)\n",
    "\n",
    "template = \"\"\"Based on the question answer me.\n",
    "              Context:{context}\n",
    "              Question: {question}\n",
    "              Answer:\n",
    "\"\"\"  # noqa: E501\n",
    "\n",
    "prompt = ChatPromptTemplate.from_template(template)\n",
    "\n",
    "chain = ({\"context\":retriever,\"question\":RunnablePassthrough()}\n",
    "                   | prompt\n",
    "                   | llm\n",
    "                   | StrOutputParser()\n",
    ")\n",
    "\n",
    "# Add typing for input\n",
    "class Question(BaseModel):\n",
    "    __root__: str\n",
    "\n",
    "\n",
    "chain_rag = chain.with_types(input_type=Question)\n"
   ]
  }
 ],
 "metadata": {
  "kernelspec": {
   "display_name": ".env",
   "language": "python",
   "name": "python3"
  },
  "language_info": {
   "codemirror_mode": {
    "name": "ipython",
    "version": 3
   },
   "file_extension": ".py",
   "mimetype": "text/x-python",
   "name": "python",
   "nbconvert_exporter": "python",
   "pygments_lexer": "ipython3",
   "version": "3.10.12"
  }
 },
 "nbformat": 4,
 "nbformat_minor": 2
}
